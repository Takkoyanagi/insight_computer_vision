{
 "cells": [
  {
   "cell_type": "code",
   "execution_count": 1,
   "metadata": {},
   "outputs": [
    {
     "data": {
      "text/plain": [
       "['bosu_ball',\n",
       " 'bench_press',\n",
       " 'elliptical_machine',\n",
       " 'vibration_plate',\n",
       " 'hyper_extension_bench']"
      ]
     },
     "execution_count": 1,
     "metadata": {},
     "output_type": "execute_result"
    }
   ],
   "source": [
    "import os\n",
    "\n",
    "labels = []\n",
    "img_dir2 = r\"/home/tk/Documents/data/training_set/\"\n",
    "for i in os.listdir(img_dir2):\n",
    "    labels.append(i)\n",
    "    \n",
    "labels = labels[:-1]\n",
    "labels\n"
   ]
  },
  {
   "cell_type": "code",
   "execution_count": 4,
   "metadata": {},
   "outputs": [],
   "source": [
    "for i in labels:\n",
    "    count = 0\n",
    "    img_dir = r\"/home/tk/Documents/data/training_set/\"+i\n",
    "    for filename in os.listdir(img_dir):\n",
    "        os.rename(img_dir + \"/\" + filename, img_dir + \"/\" + i + str(count) + '.jpeg')\n",
    "        count += 1"
   ]
  },
  {
   "cell_type": "code",
   "execution_count": 5,
   "metadata": {},
   "outputs": [],
   "source": [
    "for i in labels:\n",
    "    count = 0\n",
    "    img_dir = r\"/home/tk/Documents/data/test_set/\"+i\n",
    "    for filename in os.listdir(img_dir):\n",
    "        os.rename(img_dir + \"/\" + filename, img_dir + \"/\" + i + str(count) + '.jpeg')\n",
    "        count += 1"
   ]
  }
 ],
 "metadata": {
  "kernelspec": {
   "display_name": "Python 3",
   "language": "python",
   "name": "python3"
  },
  "language_info": {
   "codemirror_mode": {
    "name": "ipython",
    "version": 3
   },
   "file_extension": ".py",
   "mimetype": "text/x-python",
   "name": "python",
   "nbconvert_exporter": "python",
   "pygments_lexer": "ipython3",
   "version": "3.7.3"
  }
 },
 "nbformat": 4,
 "nbformat_minor": 4
}
